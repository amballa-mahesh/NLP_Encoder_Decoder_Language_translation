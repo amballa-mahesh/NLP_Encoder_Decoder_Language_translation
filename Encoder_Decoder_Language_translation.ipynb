{
  "nbformat": 4,
  "nbformat_minor": 0,
  "metadata": {
    "colab": {
      "provenance": [],
      "authorship_tag": "ABX9TyPCKmhbSBb+OcouKdLZhyzK",
      "include_colab_link": true
    },
    "kernelspec": {
      "name": "python3",
      "display_name": "Python 3"
    },
    "language_info": {
      "name": "python"
    },
    "gpuClass": "standard",
    "accelerator": "GPU"
  },
  "cells": [
    {
      "cell_type": "markdown",
      "metadata": {
        "id": "view-in-github",
        "colab_type": "text"
      },
      "source": [
        "<a href=\"https://colab.research.google.com/github/amballa-mahesh/NLP_Encoder_Decoder_Language_translation/blob/main/Encoder_Decoder_Language_translation.ipynb\" target=\"_parent\"><img src=\"https://colab.research.google.com/assets/colab-badge.svg\" alt=\"Open In Colab\"/></a>"
      ]
    },
    {
      "cell_type": "code",
      "execution_count": 2,
      "metadata": {
        "colab": {
          "base_uri": "https://localhost:8080/"
        },
        "id": "4cOcIH5SXfMw",
        "outputId": "db70a624-a75a-40fd-cc1d-db867a5493e5"
      },
      "outputs": [
        {
          "output_type": "stream",
          "name": "stdout",
          "text": [
            "Mounted at /content/mydrive\n"
          ]
        }
      ],
      "source": [
        "from google.colab import drive\n",
        "drive.mount('/content/mydrive')"
      ]
    },
    {
      "cell_type": "code",
      "source": [
        "import numpy as np"
      ],
      "metadata": {
        "id": "vxQpGRmPkn-s"
      },
      "execution_count": 2,
      "outputs": []
    },
    {
      "cell_type": "code",
      "source": [
        "path = \"/content/mydrive/MyDrive/Seq to Seq learning/fra.txt\""
      ],
      "metadata": {
        "id": "GWLTmgtcYQPg"
      },
      "execution_count": 3,
      "outputs": []
    },
    {
      "cell_type": "code",
      "source": [
        "file  =  open(path,\"r\")\n",
        "data  = file.read().split('\\n')\n",
        "len(data)"
      ],
      "metadata": {
        "colab": {
          "base_uri": "https://localhost:8080/"
        },
        "id": "IcEJV2pRY9_F",
        "outputId": "ec5c0322-a02e-4894-bdfe-1614e56077d1"
      },
      "execution_count": 22,
      "outputs": [
        {
          "output_type": "execute_result",
          "data": {
            "text/plain": [
              "197464"
            ]
          },
          "metadata": {},
          "execution_count": 22
        }
      ]
    },
    {
      "cell_type": "code",
      "source": [
        "# Reading the data from the file path\n",
        "\n",
        "file  =  open(path,\"r\")\n",
        "input_texts  = []\n",
        "target_texts = []\n",
        "input_characters = set()\n",
        "target_characters = set()\n",
        "data  = file.read().split('\\n')\n",
        "for line in range(0,19999):\n",
        "  input_text,target_text,_ = data[line].split('\\t')\n",
        "  target_text = '\\t'+target_text+'\\n'\n",
        "\n",
        "# listing the input and target texts datas\n",
        "\n",
        "  input_texts.append(input_text)\n",
        "  target_texts.append(target_text)\n",
        "\n",
        "# listing all the unique characters of both input and target texts\n",
        "\n",
        "  for char in input_text:\n",
        "    input_characters.add(char)\n",
        "  for char in target_text:\n",
        "    target_characters.add(char)\n",
        "\n",
        "input_characters    = sorted(list(input_characters))\n",
        "target_characters   = sorted(list(target_characters))\n",
        "\n",
        "# finding the number of encoder, decoder tokens and max len of the texts.\n",
        "num_encoder_tokens   = len(input_characters)\n",
        "num_decoder_tokens   = len(target_characters)\n",
        "max_encoder_seq_len = max([len(text) for text in input_texts])\n",
        "max_decoder_seq_len = max([len(text) for text in target_texts])\n",
        "\n",
        "\n",
        "print('no. of input_samples: ', len(input_texts))\n",
        "print('no. of target_samples: ', len(target_texts))\n",
        "print('no. of unique input tokens: ', num_encoder_tokens)\n",
        "print('no. of unique output tokens: ', num_decoder_tokens)\n",
        "print('max length of input tokens: ', max_encoder_seq_len)\n",
        "print('max length of output tokens: ', max_decoder_seq_len)\n",
        "\n",
        "# indexing the encoder and decoder characters using dictionary\n",
        "\n",
        "input_token_index   = dict([char,i]  for i, char in enumerate(input_characters))\n",
        "target_token_index  = dict([char,i] for i , char in enumerate(target_characters))\n",
        "\n",
        "#making the zero valued encoder_input_data  numpy array with shape as 9999,15,71. \n",
        "#making the zero valued decoder_input_data  numpy array with shape as 9999,59,93. \n",
        "#making the zero valued encoder_output_data numpy array with shape as 9999,59,93. \n",
        "\n",
        "encoder_input_data  = np.zeros((len(input_texts), max_encoder_seq_len,num_encoder_tokens),dtype = 'float32')\n",
        "decoder_input_data  = np.zeros((len(target_texts),max_decoder_seq_len,num_decoder_tokens),dtype = 'float32')\n",
        "decoder_target_data = np.zeros((len(target_texts),max_decoder_seq_len,num_decoder_tokens),dtype = 'float32')\n",
        "\n",
        "#assiging the value 1.0 to the index of each character and if the lenght of text is less than the max lenght of max encoder_seq_len then assgin 1.0 to space.\n",
        "\n",
        "for i , text in enumerate(input_texts):\n",
        "  for j, char in enumerate(text):\n",
        "    encoder_input_data[i,j,input_token_index[char]]  = 1.0\n",
        "  encoder_input_data[i,j+1:,input_token_index[' ']] = 1.0 \n",
        "\n",
        "# assiging the value 1.0 to the index of each character and if the lenght of text is less than the max lenght of max decoder_seq_len then assgin 1.0 to space.\n",
        "# here we are assigning the 1.0 to jth line of decoder_input_data where as j+1th for decoder_output_data.\n",
        "# this is because at the time of prediction we map the jth character of decoder input data to j+1th character of decoder output data.\n",
        "\n",
        "for i , text in enumerate(target_texts):\n",
        "  for j, char in enumerate(text):\n",
        "    decoder_input_data[i,j,target_token_index[char]]  = 1.0\n",
        "    if j>0:\n",
        "      decoder_target_data[i,j-1,target_token_index[char]] = 1.0\n",
        "  \n",
        "  decoder_input_data[i,j+1:,input_token_index[' ']] = 1.0 \n",
        "  decoder_target_data[i,j:,input_token_index[' ']]  = 1.0\n"
      ],
      "metadata": {
        "id": "yhNYUVQIYQVP",
        "colab": {
          "base_uri": "https://localhost:8080/"
        },
        "outputId": "2f8b5dbb-4cb1-430f-d22c-bb9bf3cafce3"
      },
      "execution_count": 31,
      "outputs": [
        {
          "output_type": "stream",
          "name": "stdout",
          "text": [
            "no. of input_samples:  19999\n",
            "no. of target_samples:  19999\n",
            "no. of unique input tokens:  74\n",
            "no. of unique output tokens:  100\n",
            "max length of input tokens:  17\n",
            "max length of output tokens:  59\n"
          ]
        }
      ]
    },
    {
      "cell_type": "code",
      "source": [
        "encoder_input_data.shape,decoder_input_data.shape,decoder_target_data.shape"
      ],
      "metadata": {
        "colab": {
          "base_uri": "https://localhost:8080/"
        },
        "id": "x5j23GlDskt1",
        "outputId": "1b216047-6d88-49fe-d8f7-836ccd8f42db"
      },
      "execution_count": 32,
      "outputs": [
        {
          "output_type": "execute_result",
          "data": {
            "text/plain": [
              "((19999, 17, 74), (19999, 59, 100), (19999, 59, 100))"
            ]
          },
          "metadata": {},
          "execution_count": 32
        }
      ]
    },
    {
      "cell_type": "code",
      "source": [
        "encoder_input_data[0][0], encoder_input_data.shape"
      ],
      "metadata": {
        "id": "E3KH8WI7YQwz",
        "colab": {
          "base_uri": "https://localhost:8080/"
        },
        "outputId": "b3c9561e-6fcd-4abc-98ab-2ac51f1caf70"
      },
      "execution_count": 33,
      "outputs": [
        {
          "output_type": "execute_result",
          "data": {
            "text/plain": [
              "(array([0., 0., 0., 0., 0., 0., 0., 0., 0., 0., 0., 0., 0., 0., 0., 0., 0.,\n",
              "        0., 0., 0., 0., 0., 0., 0., 0., 0., 0., 0., 0., 1., 0., 0., 0., 0.,\n",
              "        0., 0., 0., 0., 0., 0., 0., 0., 0., 0., 0., 0., 0., 0., 0., 0., 0.,\n",
              "        0., 0., 0., 0., 0., 0., 0., 0., 0., 0., 0., 0., 0., 0., 0., 0., 0.,\n",
              "        0., 0., 0., 0., 0., 0.], dtype=float32),\n",
              " (19999, 17, 74))"
            ]
          },
          "metadata": {},
          "execution_count": 33
        }
      ]
    },
    {
      "cell_type": "markdown",
      "source": [
        "As Mentioned above we have created numpy arrays such that the j+1th decoder input data character index value is equal to the jth decoder output data character index value."
      ],
      "metadata": {
        "id": "XpsbA02byG5Z"
      }
    },
    {
      "cell_type": "code",
      "source": [
        "decoder_input_data[100][2], encoder_input_data.shape"
      ],
      "metadata": {
        "id": "_bXqoN3BYQ54",
        "colab": {
          "base_uri": "https://localhost:8080/"
        },
        "outputId": "ef6d6b4e-039f-492a-94be-4e23ffcf14d7"
      },
      "execution_count": 34,
      "outputs": [
        {
          "output_type": "execute_result",
          "data": {
            "text/plain": [
              "(array([0., 0., 0., 0., 0., 0., 0., 1., 0., 0., 0., 0., 0., 0., 0., 0., 0.,\n",
              "        0., 0., 0., 0., 0., 0., 0., 0., 0., 0., 0., 0., 0., 0., 0., 0., 0.,\n",
              "        0., 0., 0., 0., 0., 0., 0., 0., 0., 0., 0., 0., 0., 0., 0., 0., 0.,\n",
              "        0., 0., 0., 0., 0., 0., 0., 0., 0., 0., 0., 0., 0., 0., 0., 0., 0.,\n",
              "        0., 0., 0., 0., 0., 0., 0., 0., 0., 0., 0., 0., 0., 0., 0., 0., 0.,\n",
              "        0., 0., 0., 0., 0., 0., 0., 0., 0., 0., 0., 0., 0., 0., 0.],\n",
              "       dtype=float32),\n",
              " (19999, 17, 74))"
            ]
          },
          "metadata": {},
          "execution_count": 34
        }
      ]
    },
    {
      "cell_type": "code",
      "source": [
        "decoder_target_data[100][1], decoder_target_data.shape"
      ],
      "metadata": {
        "colab": {
          "base_uri": "https://localhost:8080/"
        },
        "id": "OZo4umootj3n",
        "outputId": "89370c47-dbc3-4fab-8812-eebc75808e07"
      },
      "execution_count": 35,
      "outputs": [
        {
          "output_type": "execute_result",
          "data": {
            "text/plain": [
              "(array([0., 0., 0., 0., 0., 0., 0., 1., 0., 0., 0., 0., 0., 0., 0., 0., 0.,\n",
              "        0., 0., 0., 0., 0., 0., 0., 0., 0., 0., 0., 0., 0., 0., 0., 0., 0.,\n",
              "        0., 0., 0., 0., 0., 0., 0., 0., 0., 0., 0., 0., 0., 0., 0., 0., 0.,\n",
              "        0., 0., 0., 0., 0., 0., 0., 0., 0., 0., 0., 0., 0., 0., 0., 0., 0.,\n",
              "        0., 0., 0., 0., 0., 0., 0., 0., 0., 0., 0., 0., 0., 0., 0., 0., 0.,\n",
              "        0., 0., 0., 0., 0., 0., 0., 0., 0., 0., 0., 0., 0., 0., 0.],\n",
              "       dtype=float32),\n",
              " (19999, 59, 100))"
            ]
          },
          "metadata": {},
          "execution_count": 35
        }
      ]
    },
    {
      "cell_type": "code",
      "source": [
        "import tensorflow\n",
        "from tensorflow import keras"
      ],
      "metadata": {
        "id": "KggjeZCFr03m"
      },
      "execution_count": 36,
      "outputs": []
    },
    {
      "cell_type": "code",
      "source": [
        "batch_size = 64\n",
        "latent_dim = 256"
      ],
      "metadata": {
        "id": "3X0HlF-gr_NL"
      },
      "execution_count": 37,
      "outputs": []
    },
    {
      "cell_type": "markdown",
      "source": [
        "Creation of Encoder Inputs and Outputs (Here we use only cell and memory states encoder as the decoder inputs)\n"
      ],
      "metadata": {
        "id": "ITxj6ESlriZd"
      }
    },
    {
      "cell_type": "code",
      "source": [
        "# Define an input sequence and process it.\n",
        "\n",
        "encoder_inputs                  = keras.Input(shape=(None,num_encoder_tokens))\n",
        "encoder_lstm                    = keras.layers.LSTM(latent_dim,return_state=True)\n",
        "encoder_outputs,state_h,state_c = encoder_lstm(encoder_inputs)\n",
        "\n",
        "# we discard encoder outputs, we consider only the states\n",
        "encoder_states = [state_h,state_c]"
      ],
      "metadata": {
        "id": "Hn7qsmNAYRCQ"
      },
      "execution_count": 38,
      "outputs": []
    },
    {
      "cell_type": "markdown",
      "source": [
        "Creation of Decoder Inputs and Outputs"
      ],
      "metadata": {
        "id": "-PLD7rL5tLZD"
      }
    },
    {
      "cell_type": "code",
      "source": [
        "# setting up our decoder to return full output sequences,\n",
        "# we consider only decoder outputs not the states as encoder \n",
        "# return states in the training model, but we will use them in inference.\n",
        "\n",
        "decoder_inputs      = keras.Input(shape= (None, num_decoder_tokens))\n",
        "decoder_lstm        = keras.layers.LSTM(latent_dim,return_state=True,return_sequences=True)\n",
        "decoder_outputs,_,_ = decoder_lstm(decoder_inputs,initial_state =encoder_states)\n",
        "decoder_dense       = keras.layers.Dense(num_decoder_tokens,activation = 'softmax')\n",
        "decoder_outputs     = decoder_dense(decoder_outputs)\n"
      ],
      "metadata": {
        "id": "u3-OlbFAYRFS"
      },
      "execution_count": 39,
      "outputs": []
    },
    {
      "cell_type": "code",
      "source": [
        "print(encoder_outputs)\n",
        "print(decoder_outputs)\n",
        "print(decoder_outputs)"
      ],
      "metadata": {
        "id": "wVBV8LLqYRIB",
        "colab": {
          "base_uri": "https://localhost:8080/"
        },
        "outputId": "d7cc3d33-a54d-49ef-ee47-c0ee70b4a805"
      },
      "execution_count": 40,
      "outputs": [
        {
          "output_type": "stream",
          "name": "stdout",
          "text": [
            "KerasTensor(type_spec=TensorSpec(shape=(None, 256), dtype=tf.float32, name=None), name='lstm_2/PartitionedCall:0', description=\"created by layer 'lstm_2'\")\n",
            "KerasTensor(type_spec=TensorSpec(shape=(None, None, 100), dtype=tf.float32, name=None), name='dense_1/Softmax:0', description=\"created by layer 'dense_1'\")\n",
            "KerasTensor(type_spec=TensorSpec(shape=(None, None, 100), dtype=tf.float32, name=None), name='dense_1/Softmax:0', description=\"created by layer 'dense_1'\")\n"
          ]
        }
      ]
    },
    {
      "cell_type": "markdown",
      "source": [
        "Model Creation, training and saving as .h5 file"
      ],
      "metadata": {
        "id": "g2506Fp7vK_w"
      }
    },
    {
      "cell_type": "code",
      "source": [
        "model = keras.Model([encoder_inputs,decoder_inputs],decoder_outputs)"
      ],
      "metadata": {
        "id": "mV0Ep3y0u7vw"
      },
      "execution_count": 41,
      "outputs": []
    },
    {
      "cell_type": "code",
      "source": [
        "model.compile(optimizer= 'adam',loss = 'categorical_crossentropy',metrics ='accuracy')"
      ],
      "metadata": {
        "id": "0ZPCn490u7yP"
      },
      "execution_count": 42,
      "outputs": []
    },
    {
      "cell_type": "code",
      "source": [
        "model.fit([encoder_input_data,decoder_input_data],decoder_target_data,\n",
        "          epochs = 20,\n",
        "          batch_size= batch_size,\n",
        "          validation_split =0.2,\n",
        "          )\n",
        "model.save('s2s_letters.h5')"
      ],
      "metadata": {
        "colab": {
          "base_uri": "https://localhost:8080/"
        },
        "id": "C8CM0C7Du70i",
        "outputId": "a19dacf6-3784-4b9b-eac7-c14896b7b5dd"
      },
      "execution_count": 43,
      "outputs": [
        {
          "output_type": "stream",
          "name": "stdout",
          "text": [
            "Epoch 1/20\n",
            "250/250 [==============================] - 9s 18ms/step - loss: 1.1715 - accuracy: 0.7192 - val_loss: 0.9907 - val_accuracy: 0.7319\n",
            "Epoch 2/20\n",
            "250/250 [==============================] - 3s 13ms/step - loss: 0.7191 - accuracy: 0.7992 - val_loss: 0.7499 - val_accuracy: 0.7839\n",
            "Epoch 3/20\n",
            "250/250 [==============================] - 4s 15ms/step - loss: 0.5992 - accuracy: 0.8257 - val_loss: 0.6805 - val_accuracy: 0.8015\n",
            "Epoch 4/20\n",
            "250/250 [==============================] - 3s 14ms/step - loss: 0.5493 - accuracy: 0.8385 - val_loss: 0.6418 - val_accuracy: 0.8119\n",
            "Epoch 5/20\n",
            "250/250 [==============================] - 3s 13ms/step - loss: 0.5175 - accuracy: 0.8470 - val_loss: 0.6124 - val_accuracy: 0.8196\n",
            "Epoch 6/20\n",
            "250/250 [==============================] - 3s 13ms/step - loss: 0.4903 - accuracy: 0.8545 - val_loss: 0.5840 - val_accuracy: 0.8268\n",
            "Epoch 7/20\n",
            "250/250 [==============================] - 4s 14ms/step - loss: 0.4676 - accuracy: 0.8606 - val_loss: 0.5678 - val_accuracy: 0.8323\n",
            "Epoch 8/20\n",
            "250/250 [==============================] - 4s 14ms/step - loss: 0.4478 - accuracy: 0.8664 - val_loss: 0.5464 - val_accuracy: 0.8382\n",
            "Epoch 9/20\n",
            "250/250 [==============================] - 3s 13ms/step - loss: 0.4300 - accuracy: 0.8712 - val_loss: 0.5335 - val_accuracy: 0.8415\n",
            "Epoch 10/20\n",
            "250/250 [==============================] - 3s 13ms/step - loss: 0.4148 - accuracy: 0.8755 - val_loss: 0.5195 - val_accuracy: 0.8459\n",
            "Epoch 11/20\n",
            "250/250 [==============================] - 4s 15ms/step - loss: 0.3990 - accuracy: 0.8804 - val_loss: 0.5076 - val_accuracy: 0.8484\n",
            "Epoch 12/20\n",
            "250/250 [==============================] - 3s 14ms/step - loss: 0.3851 - accuracy: 0.8843 - val_loss: 0.4981 - val_accuracy: 0.8513\n",
            "Epoch 13/20\n",
            "250/250 [==============================] - 3s 13ms/step - loss: 0.3720 - accuracy: 0.8882 - val_loss: 0.4875 - val_accuracy: 0.8550\n",
            "Epoch 14/20\n",
            "250/250 [==============================] - 3s 14ms/step - loss: 0.3594 - accuracy: 0.8920 - val_loss: 0.4816 - val_accuracy: 0.8566\n",
            "Epoch 15/20\n",
            "250/250 [==============================] - 4s 15ms/step - loss: 0.3476 - accuracy: 0.8956 - val_loss: 0.4705 - val_accuracy: 0.8605\n",
            "Epoch 16/20\n",
            "250/250 [==============================] - 3s 14ms/step - loss: 0.3354 - accuracy: 0.8993 - val_loss: 0.4662 - val_accuracy: 0.8618\n",
            "Epoch 17/20\n",
            "250/250 [==============================] - 3s 14ms/step - loss: 0.3244 - accuracy: 0.9024 - val_loss: 0.4626 - val_accuracy: 0.8636\n",
            "Epoch 18/20\n",
            "250/250 [==============================] - 3s 13ms/step - loss: 0.3139 - accuracy: 0.9054 - val_loss: 0.4516 - val_accuracy: 0.8665\n",
            "Epoch 19/20\n",
            "250/250 [==============================] - 4s 15ms/step - loss: 0.3039 - accuracy: 0.9084 - val_loss: 0.4529 - val_accuracy: 0.8673\n",
            "Epoch 20/20\n",
            "250/250 [==============================] - 3s 14ms/step - loss: 0.2944 - accuracy: 0.9114 - val_loss: 0.4474 - val_accuracy: 0.8677\n"
          ]
        }
      ]
    },
    {
      "cell_type": "code",
      "source": [
        "model.summary()"
      ],
      "metadata": {
        "colab": {
          "base_uri": "https://localhost:8080/"
        },
        "id": "ljeMCQjfu729",
        "outputId": "ffe99cd5-b211-4d6f-e064-6b5943690091"
      },
      "execution_count": 44,
      "outputs": [
        {
          "output_type": "stream",
          "name": "stdout",
          "text": [
            "Model: \"model_3\"\n",
            "__________________________________________________________________________________________________\n",
            " Layer (type)                   Output Shape         Param #     Connected to                     \n",
            "==================================================================================================\n",
            " input_5 (InputLayer)           [(None, None, 74)]   0           []                               \n",
            "                                                                                                  \n",
            " input_6 (InputLayer)           [(None, None, 100)]  0           []                               \n",
            "                                                                                                  \n",
            " lstm_2 (LSTM)                  [(None, 256),        338944      ['input_5[0][0]']                \n",
            "                                 (None, 256),                                                     \n",
            "                                 (None, 256)]                                                     \n",
            "                                                                                                  \n",
            " lstm_3 (LSTM)                  [(None, None, 256),  365568      ['input_6[0][0]',                \n",
            "                                 (None, 256),                     'lstm_2[0][1]',                 \n",
            "                                 (None, 256)]                     'lstm_2[0][2]']                 \n",
            "                                                                                                  \n",
            " dense_1 (Dense)                (None, None, 100)    25700       ['lstm_3[0][0]']                 \n",
            "                                                                                                  \n",
            "==================================================================================================\n",
            "Total params: 730,212\n",
            "Trainable params: 730,212\n",
            "Non-trainable params: 0\n",
            "__________________________________________________________________________________________________\n"
          ]
        }
      ]
    },
    {
      "cell_type": "code",
      "source": [
        "from keras.utils.vis_utils import plot_model"
      ],
      "metadata": {
        "id": "bzVjYyEpu75K"
      },
      "execution_count": 45,
      "outputs": []
    },
    {
      "cell_type": "code",
      "source": [
        "plot_model(model)"
      ],
      "metadata": {
        "colab": {
          "base_uri": "https://localhost:8080/",
          "height": 369
        },
        "id": "YSqjSma4u77p",
        "outputId": "2e83fcac-f343-4290-88bd-10750f453b74"
      },
      "execution_count": 46,
      "outputs": [
        {
          "output_type": "execute_result",
          "data": {
            "image/png": "[encoded data removed]",
            "text/plain": [
              "<IPython.core.display.Image object>"
            ]
          },
          "metadata": {},
          "execution_count": 46
        }
      ]
    },
    {
      "cell_type": "code",
      "source": [
        "# encoder model\n",
        "\n",
        "model = keras.models.load_model('s2s_letters.h5')\n",
        "encoder_inputs = model.input[0]\n",
        "encoder_outputs,state_h,state_c = model.layers[2].output\n",
        "encoder_states = [state_h,state_c]\n",
        "encoder_model  = keras.Model(encoder_inputs,encoder_states)"
      ],
      "metadata": {
        "id": "P91cGqgUu79o"
      },
      "execution_count": 47,
      "outputs": []
    },
    {
      "cell_type": "code",
      "source": [
        "# decoder model\n",
        "\n",
        "decoder_inputs = model.input[1]\n",
        "decoder_state_input_h = keras.Input(shape = (latent_dim,))\n",
        "decoder_state_input_c = keras.Input(shape = (latent_dim,))\n",
        "decoder_state_inputs         = [decoder_state_input_h,decoder_state_input_c]\n",
        "\n",
        "decoder_lstm  = model.layers[3]\n",
        "decoder_outputs, state_h_dec, state_c_dec = decoder_lstm(decoder_inputs, initial_state= decoder_state_inputs )\n",
        "\n",
        "decoder_states = [state_h_dec,state_c_dec]\n",
        "decoder_dense = model.layers[4]\n",
        "decoder_outputs = decoder_dense(decoder_outputs)\n",
        "\n",
        "decoder_model = keras.Model([decoder_inputs]+decoder_state_inputs,[decoder_outputs]+decoder_states)\n",
        "\n",
        "\n",
        "reverse_input_char_index  = dict((i,char) for char, i in input_token_index.items())\n",
        "reverse_target_char_index = dict((i,char) for char, i in target_token_index.items())\n"
      ],
      "metadata": {
        "id": "8rz_1Mglu7_4"
      },
      "execution_count": 48,
      "outputs": []
    },
    {
      "cell_type": "code",
      "source": [
        "def decode_sequence(input_seq):\n",
        "    # Encode the input as state vectors.\n",
        "    states_value = encoder_model.predict(input_seq,verbose =False)\n",
        "\n",
        "    # Generate empty target sequence of length 1.\n",
        "    target_seq = np.zeros((1, 1, num_decoder_tokens))\n",
        "\n",
        "    # Populate the first character of target sequence with the start character.\n",
        "    target_seq[0, 0, target_token_index['\\t']] = 1.\n",
        "\n",
        "    # Sampling loop for a batch of sequences\n",
        "    # (to simplify, here we assume a batch of size 1).\n",
        "    stop_condition = False\n",
        "    decoded_sentence = ''\n",
        "    while not stop_condition:\n",
        "        output_tokens, h, c = decoder_model.predict(\n",
        "            [target_seq] + states_value,verbose =False)\n",
        "\n",
        "        # Sample a token\n",
        "        sampled_token_index = np.argmax(output_tokens[0, -1, :])\n",
        "        sampled_char = reverse_target_char_index[sampled_token_index]\n",
        "        decoded_sentence += sampled_char\n",
        "\n",
        "        # Exit condition: either hit max length\n",
        "        # or find stop character.\n",
        "        if (sampled_char == '\\n' or\n",
        "           len(decoded_sentence) > max_decoder_seq_len):\n",
        "            stop_condition = True\n",
        "\n",
        "        # Update the target sequence (of length 1).\n",
        "        target_seq = np.zeros((1, 1, num_decoder_tokens))\n",
        "        target_seq[0, 0, sampled_token_index] = 1.\n",
        "\n",
        "        # Update states\n",
        "        states_value = [h, c]\n",
        "\n",
        "    return decoded_sentence"
      ],
      "metadata": {
        "id": "bkkPrIBtu8GN"
      },
      "execution_count": 49,
      "outputs": []
    },
    {
      "cell_type": "markdown",
      "source": [
        "Testing the Model"
      ],
      "metadata": {
        "id": "l3hbm3VycTtm"
      }
    },
    {
      "cell_type": "code",
      "source": [
        "for i in range(40,50):\n",
        "  input_seq = encoder_input_data[i:i+1]\n",
        "  decoded_sentence = decode_sequence(input_seq)\n",
        "  print('---------------------')\n",
        "  print(\"Input_sequence: \" ,input_texts[i])\n",
        "  print('Output_sequence: ',decoded_sentence)"
      ],
      "metadata": {
        "colab": {
          "base_uri": "https://localhost:8080/"
        },
        "id": "c-hx0ZWtu8Il",
        "outputId": "00eba7df-f3a5-45a3-d0d9-7f562ac8f5ba"
      },
      "execution_count": 53,
      "outputs": [
        {
          "output_type": "stream",
          "name": "stdout",
          "text": [
            "---------------------\n",
            "Input_sequence:  Wait!\n",
            "Output_sequence:  Attendez !\n",
            "\n",
            "---------------------\n",
            "Input_sequence:  Wait.\n",
            "Output_sequence:  Attendez !\n",
            "\n",
            "---------------------\n",
            "Input_sequence:  Wait.\n",
            "Output_sequence:  Attendez !\n",
            "\n",
            "---------------------\n",
            "Input_sequence:  Wait.\n",
            "Output_sequence:  Attendez !\n",
            "\n",
            "---------------------\n",
            "Input_sequence:  Wait.\n",
            "Output_sequence:  Attendez !\n",
            "\n",
            "---------------------\n",
            "Input_sequence:  Begin.\n",
            "Output_sequence:  Commence.\n",
            "\n",
            "---------------------\n",
            "Input_sequence:  Begin.\n",
            "Output_sequence:  Commence.\n",
            "\n",
            "---------------------\n",
            "Input_sequence:  Go on.\n",
            "Output_sequence:  Dégardez.\n",
            "\n",
            "---------------------\n",
            "Input_sequence:  Go on.\n",
            "Output_sequence:  Dégardez.\n",
            "\n",
            "---------------------\n",
            "Input_sequence:  Go on.\n",
            "Output_sequence:  Dégardez.\n",
            "\n"
          ]
        }
      ]
    },
    {
      "cell_type": "code",
      "source": [
        "input_texts[40:50],target_texts[40:50]"
      ],
      "metadata": {
        "colab": {
          "base_uri": "https://localhost:8080/"
        },
        "id": "hUAem4SLu8KT",
        "outputId": "a8cacbc7-a90f-4a41-8c94-46843464f221"
      },
      "execution_count": 54,
      "outputs": [
        {
          "output_type": "execute_result",
          "data": {
            "text/plain": [
              "(['Wait!',\n",
              "  'Wait.',\n",
              "  'Wait.',\n",
              "  'Wait.',\n",
              "  'Wait.',\n",
              "  'Begin.',\n",
              "  'Begin.',\n",
              "  'Go on.',\n",
              "  'Go on.',\n",
              "  'Go on.'],\n",
              " ['\\tAttendez.\\n',\n",
              "  '\\tAttends !\\n',\n",
              "  '\\tAttendez !\\n',\n",
              "  '\\tAttends.\\n',\n",
              "  '\\tAttendez.\\n',\n",
              "  '\\tCommencez.\\n',\n",
              "  '\\tCommence.\\n',\n",
              "  '\\tPoursuis.\\n',\n",
              "  '\\tContinuez.\\n',\n",
              "  '\\tPoursuivez.\\n'])"
            ]
          },
          "metadata": {},
          "execution_count": 54
        }
      ]
    }
  ]
}